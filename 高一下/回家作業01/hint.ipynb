{
 "metadata": {
  "language_info": {
   "codemirror_mode": {
    "name": "ipython",
    "version": 3
   },
   "file_extension": ".py",
   "mimetype": "text/x-python",
   "name": "python",
   "nbconvert_exporter": "python",
   "pygments_lexer": "ipython3",
   "version": "3.9.0-final"
  },
  "orig_nbformat": 2,
  "kernelspec": {
   "name": "python3",
   "display_name": "Python 3.9.0 32-bit",
   "metadata": {
    "interpreter": {
     "hash": "63ef6c4c9c7e0c20c52df2d072ac6b0169466491aaff467852b477267fb42e57"
    }
   }
  }
 },
 "nbformat": 4,
 "nbformat_minor": 2,
 "cells": [
  {
   "source": [
    "# python回家作業 - 提示\n",
    "-by 不想寫國文回家作業的vflc"
   ],
   "cell_type": "markdown",
   "metadata": {}
  },
  {
   "source": [
    "## Q1. 輸入三角形 底/高 求面積\n",
    "- 解題流程 :<br/> \n",
    "  1. 以 input() 分別讀入底和高<br/>\n",
    "  2. 面積 = 底*高/2\n",
    "  3. 再以 print() 輸出面積<br />\n",
    "\n",
    "- 因為 input() 會回傳\"字串(str)\"<br/>\n",
    "所以要用 int() 將其回傳值轉換成\"整數(int)\"\n",
    "\n",
    "- 字串就是一串字<br />\n",
    "假設我想要印出 hello<br />\n",
    "不是寫 print(hello)<br />\n",
    "而是 print(\"hello\")<br />\n",
    "第一種寫法python會以為hello是(變數名稱)而非(字串)<br />\n",
    "第二種寫法的 \" \" 告訴python <strong>\"被引號包圍的是字串\"</strong>"
   ],
   "cell_type": "markdown",
   "metadata": {}
  },
  {
   "source": [
    "width = int(input(\"請輸入底 :\"))\n",
    "height = int(input(\"請輸入高 :\"))\n"
   ],
   "cell_type": "code",
   "metadata": {},
   "execution_count": null,
   "outputs": []
  },
  {
   "source": [
    "## Q2. 輸入梯形 上底/下底/高 求面積\n",
    "\n",
    "- 注意運算的優先度!\n"
   ],
   "cell_type": "markdown",
   "metadata": {}
  },
  {
   "cell_type": "code",
   "execution_count": null,
   "metadata": {},
   "outputs": [],
   "source": [
    "top = int(input(\"請輸入上底 :\"))\n",
    "bottom = int(input(\"請輸入下底 :\"))\n",
    "height = int(input(\"請輸入高 :\"))\n"
   ]
  },
  {
   "source": [
    "## Q3. 輸入攝氏溫度 求華氏溫度\n",
    "- F = C*9/5 + 32"
   ],
   "cell_type": "markdown",
   "metadata": {}
  },
  {
   "cell_type": "code",
   "execution_count": null,
   "metadata": {},
   "outputs": [],
   "source": [
    "tempC = int(input(\"請輸入攝氏溫度 :\"))\n"
   ]
  },
  {
   "source": [
    "## Q4. 輸入 身高/體重 求BMI\n",
    "- 這題比較特別<br />\n",
    "不是用 int() 把 input() 回傳值從(字串)轉成(整數)<br />\n",
    "而是用 float() 轉成\"浮點數(小數)\"<br />\n",
    "畢竟很少人身高剛好是整數公尺吧?"
   ],
   "cell_type": "markdown",
   "metadata": {}
  },
  {
   "cell_type": "code",
   "execution_count": null,
   "metadata": {},
   "outputs": [],
   "source": [
    "height = float(input(\"請輸入身高(公尺) :\"))\n",
    "weight = int(input(\"請輸入體重 :\"))\n"
   ]
  },
  {
   "source": [
    "## Q5. 輸入 呎/吋 求公分\n",
    "- 解題流程 :\n",
    "  1. 以 input() 讀入呎/吋<br />\n",
    "  2. 把呎*12換成吋並加上原本的吋 <br />\n",
    "  3. 把吋換成公分\n"
   ],
   "cell_type": "markdown",
   "metadata": {}
  },
  {
   "cell_type": "code",
   "execution_count": null,
   "metadata": {},
   "outputs": [],
   "source": [
    "feet = int(input(\"請輸入幾呎 :\"))\n",
    "inch = int(input(\"請輸入幾吋 :\"))\n"
   ]
  },
  {
   "source": [
    "## Q6. 輸入 公分 求呎/吋\n",
    "- 解題流程 :\n",
    "  1. 以 input() 讀入公分<br />\n",
    "  2. 公分/2.54 換成吋<br />\n",
    "  3. 呎 = 吋除以12\n",
    "  4. 剩下的吋 = (吋/12)取餘數"
   ],
   "cell_type": "markdown",
   "metadata": {}
  },
  {
   "cell_type": "code",
   "execution_count": null,
   "metadata": {},
   "outputs": [],
   "source": [
    "cm = int(input(\"請輸入幾公分:\"))\n"
   ]
  },
  {
   "source": [
    "## Q7. 應用題\n",
    "> 隨身碟一個售價500元<br/>\n",
    "> 每三個一組優惠1280元<br/>\n",
    "> 剩下未達三個則以原價計算<br/>\n",
    "> <br/>\n",
    "> 輸入購買數量<br/>\n",
    "> 請輸出折扣後的價格\n",
    "\n",
    "- 這題有兩種做法\n",
    "  1. 取餘數\n",
    "  2. 找出關係並只用四則運算"
   ],
   "cell_type": "markdown",
   "metadata": {}
  },
  {
   "cell_type": "code",
   "execution_count": null,
   "metadata": {},
   "outputs": [],
   "source": [
    "amount = int(input(\"請輸入欲購買數量 :\"))\n"
   ]
  },
  {
   "source": [
    "## Q8. 應用題\n",
    "> 甲乙賽跑成績分別為 a分b秒 與 c分d秒<br/>\n",
    "> (不保證a,b,c,d大小關係)<br/>\n",
    ">\n",
    "> 輸入a,b,c,d<br/>\n",
    "> 請輸出甲乙兩人相差幾分幾秒<br/>\n",
    "\n",
    "- 解題流程 :\n",
    "  1. 以 input() 分別讀入兩人的 分/秒<br />\n",
    "  2. 把成績換成秒數並算出差了幾秒<br />\n",
    "  3. 再把相差的秒數換算回分鐘\n",
    "  \n",
    "- abs()<br />\n",
    "  用法就像int()或round()\n",
    "    - abs(number) : <strong>回傳</strong>number的絕對值"
   ],
   "cell_type": "markdown",
   "metadata": {}
  },
  {
   "cell_type": "code",
   "execution_count": null,
   "metadata": {},
   "outputs": [],
   "source": [
    "minA = int(input(\"請輸入A的分鐘 :\"))\n",
    "secA = int(input(\"請輸入A的秒數 :\"))\n",
    "minB = int(input(\"請輸入B的分鐘 :\"))\n",
    "secB = int(input(\"請輸入B的秒數 :\"))\n"
   ]
  }
 ]
}