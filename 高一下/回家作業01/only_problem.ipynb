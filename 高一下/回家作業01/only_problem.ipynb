{
 "metadata": {
  "language_info": {
   "codemirror_mode": {
    "name": "ipython",
    "version": 3
   },
   "file_extension": ".py",
   "mimetype": "text/x-python",
   "name": "python",
   "nbconvert_exporter": "python",
   "pygments_lexer": "ipython3",
   "version": "3.9.0-final"
  },
  "orig_nbformat": 2,
  "kernelspec": {
   "name": "python3",
   "display_name": "Python 3.9.0 32-bit",
   "metadata": {
    "interpreter": {
     "hash": "63ef6c4c9c7e0c20c52df2d072ac6b0169466491aaff467852b477267fb42e57"
    }
   }
  }
 },
 "nbformat": 4,
 "nbformat_minor": 2,
 "cells": [
  {
   "source": [
    "# python回家作業 - 題目\n",
    "-by 不想寫國文回家作業的vflc"
   ],
   "cell_type": "markdown",
   "metadata": {}
  },
  {
   "source": [
    "## Q1. 輸入三角形 底/高 求面積"
   ],
   "cell_type": "markdown",
   "metadata": {}
  },
  {
   "source": [
    "## Q2. 輸入梯形 上下底/高 求面積\n"
   ],
   "cell_type": "markdown",
   "metadata": {}
  },
  {
   "source": [
    "## Q3. 輸入攝氏溫度 求華氏溫度"
   ],
   "cell_type": "markdown",
   "metadata": {}
  },
  {
   "source": [
    "## Q4. 輸入 身高/體重 求BMI"
   ],
   "cell_type": "markdown",
   "metadata": {}
  },
  {
   "source": [
    "## Q5. 輸入 呎/吋 求公分"
   ],
   "cell_type": "markdown",
   "metadata": {}
  },
  {
   "source": [
    "## Q6. 輸入 公分 求呎/吋"
   ],
   "cell_type": "markdown",
   "metadata": {}
  },
  {
   "source": [
    "## Q7. 應用題\n",
    "> 隨身碟一個售價500元<br/>\n",
    "> 每三個一組優惠1280元<br/>\n",
    "> 剩下未達三個則以原價計算<br/>\n",
    "> <br/>\n",
    "> 輸入購買數量<br/>\n",
    "> 請輸出折扣後的價格"
   ],
   "cell_type": "markdown",
   "metadata": {}
  },
  {
   "source": [
    "## Q8. 應用題\n",
    "> 甲乙賽跑成績分別為 a分b秒 與 c分d秒<br/>\n",
    "> (不保證a,b,c,d大小關係)<br/>\n",
    "> \n",
    "> 輸入a,b,c,d<br/>\n",
    "> 請輸出甲乙兩人相差幾分幾秒<br/>\n",
    "\n",
    "- abs(number) : 回傳number的絕對值"
   ],
   "cell_type": "markdown",
   "metadata": {}
  }
 ]
}