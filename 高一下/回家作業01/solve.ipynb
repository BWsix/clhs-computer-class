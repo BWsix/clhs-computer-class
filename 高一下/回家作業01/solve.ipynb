{
 "metadata": {
  "language_info": {
   "codemirror_mode": {
    "name": "ipython",
    "version": 3
   },
   "file_extension": ".py",
   "mimetype": "text/x-python",
   "name": "python",
   "nbconvert_exporter": "python",
   "pygments_lexer": "ipython3",
   "version": "3.9.0-final"
  },
  "orig_nbformat": 2,
  "kernelspec": {
   "name": "python3",
   "display_name": "Python 3.9.0 32-bit",
   "metadata": {
    "interpreter": {
     "hash": "63ef6c4c9c7e0c20c52df2d072ac6b0169466491aaff467852b477267fb42e57"
    }
   }
  }
 },
 "nbformat": 4,
 "nbformat_minor": 2,
 "cells": [
  {
   "source": [
    "# python回家作業 - 詳解\n",
    "-by 不想寫國文回家作業的vflc"
   ],
   "cell_type": "markdown",
   "metadata": {}
  },
  {
   "source": [
    "## Q1. 輸入三角形 底/高 求面積\n",
    "- 解題流程 :<br/> \n",
    "  1. 以 input() 分別讀入底和高<br/>\n",
    "  2. 面積 = 底*高/2\n",
    "  3. 再以 print() 輸出面積<br />\n",
    "\n",
    "- 因為 input() 會回傳\"字串(str)\"<br/>\n",
    "所以要用 int() 將其回傳值轉換成\"整數(int)\"\n",
    "\n",
    "- 字串就是一串字<br />\n",
    "假設我想要印出 hello<br />\n",
    "不是寫 print(hello)<br />\n",
    "而是 print(\"hello\")<br />\n",
    "第一種寫法python會以為hello是(變數名稱)而非(字串)<br />\n",
    "第二種寫法的 \" \" 告訴python <strong>\"被引號包圍的是字串\"</strong>"
   ],
   "cell_type": "markdown",
   "metadata": {}
  },
  {
   "source": [
    "width = int(input(\"請輸入底 :\"))\n",
    "height = int(input(\"請輸入高 :\"))\n",
    "\n",
    "area = width*height/2\n",
    "\n",
    "print(\"面積為 :\", area)"
   ],
   "cell_type": "code",
   "metadata": {},
   "execution_count": null,
   "outputs": []
  },
  {
   "source": [
    "- 如果你注意到 print(area) 有小數點<br/>\n",
    "那是因為在python的世界<br/>\n",
    "(整數)除以(整數)會變成(浮點數)\n",
    "\n",
    "- 在程式語言裡, 浮點數(float)就是小數喔"
   ],
   "cell_type": "markdown",
   "metadata": {}
  },
  {
   "source": [
    "## Q2. 輸入梯形 上底/下底/高 求面積\n",
    "\n",
    "- 注意運算的優先度!\n"
   ],
   "cell_type": "markdown",
   "metadata": {}
  },
  {
   "cell_type": "code",
   "execution_count": null,
   "metadata": {},
   "outputs": [],
   "source": [
    "top = int(input(\"請輸入上底 :\"))\n",
    "bottom = int(input(\"請輸入下底 :\"))\n",
    "height = int(input(\"請輸入高 :\"))\n",
    "\n",
    "area = (top+bottom)*height/2\n",
    "\n",
    "print(\"面積為 :\", area)"
   ]
  },
  {
   "source": [
    "## Q3. 輸入攝氏溫度 求華氏溫度\n",
    "- F = C*9/5 + 32"
   ],
   "cell_type": "markdown",
   "metadata": {}
  },
  {
   "cell_type": "code",
   "execution_count": null,
   "metadata": {},
   "outputs": [],
   "source": [
    "tempC = int(input(\"請輸入攝氏溫度 :\"))\n",
    "\n",
    "tempF = tempC*9/5 + 32 # 先乘除後加減, 所以不用加括號, 但要加也是可以啦\n",
    "\n",
    "print(\"華氏溫度為 :\", tempF)"
   ]
  },
  {
   "source": [
    "## Q4. 輸入 身高/體重 求BMI\n",
    "- 這題比較特別<br />\n",
    "不是用 int() 把 input() 回傳值從(字串)轉成(整數)<br />\n",
    "而是用 float() 轉成\"浮點數(小數)\"<br />\n",
    "畢竟很少人身高剛好是整數公尺吧?"
   ],
   "cell_type": "markdown",
   "metadata": {}
  },
  {
   "cell_type": "code",
   "execution_count": null,
   "metadata": {},
   "outputs": [],
   "source": [
    "height = float(input(\"請輸入身高(公尺) :\"))\n",
    "weight = int(input(\"請輸入體重 :\"))\n",
    "\n",
    "# 注意, 盡量不要寫 BMI, 不是不能用大寫當變數名稱, 只是會用在其他地方\n",
    "bmi = weight/(height**2) # a**b => a的b次方\n",
    "\n",
    "print(\"BMI :\", bmi)"
   ]
  },
  {
   "source": [
    "- 小數位數好像太多了=w=<br />\n",
    "可以用 round() 來做處理<br />\n",
    "用法就像 int()<br />\n",
    "可以在括號內放數字(不過round是放浮點數)\n",
    "\n",
    "  - round(number) : <strong>回傳</strong>最接近number的 整數(int)\n",
    "  - round(number, x) : <strong>回傳</strong>最接近number的 x位小數(float)\n",
    "\n",
    "所以這題可以加上一句 :"
   ],
   "cell_type": "markdown",
   "metadata": {}
  },
  {
   "cell_type": "code",
   "execution_count": null,
   "metadata": {},
   "outputs": [],
   "source": [
    "height = float(input(\"請輸入身高(公尺) :\"))\n",
    "weight = int(input(\"請輸入體重 :\"))\n",
    "\n",
    "bmi = weight/(height**2)\n",
    "bmi = round(bmi, 1) # 記得要把round回傳的值存到bmi裡\n",
    "\n",
    "print(\"BMI :\", bmi)"
   ]
  },
  {
   "source": [
    "- round()好麻煩=w=<br />\n",
    "可以用 \"整數除法\"(名字我取的) 來解決<br />\n",
    "  - 一般除法 : 整數/整數 = 浮點數<br />\n",
    "  - 整數除法 : 整數//整數 = 整數<br />\n",
    "  注意 : 整數除法會<strong>向負取整</strong>(-3.5變-4 就是向負取整)\n",
    "  \n",
    "所以這題又可以改寫成 :"
   ],
   "cell_type": "markdown",
   "metadata": {}
  },
  {
   "cell_type": "code",
   "execution_count": null,
   "metadata": {},
   "outputs": [],
   "source": [
    "height = float(input(\"請輸入身高(公尺) :\"))\n",
    "weight = int(input(\"請輸入體重 :\"))\n",
    "\n",
    "# 注意這裡的height不是整數, 所以就算用//還是會有xxx.0\n",
    "bmi = weight//(height**2)\n",
    "\n",
    "print(\"BMI :\", bmi)"
   ]
  },
  {
   "source": [
    "## Q5. 輸入 呎/吋 求公分\n",
    "- 解題流程 :\n",
    "  1. 以 input() 讀入呎/吋<br />\n",
    "  2. 把呎*12換成吋並加上原本的吋 <br />\n",
    "  3. 把吋換成公分\n"
   ],
   "cell_type": "markdown",
   "metadata": {}
  },
  {
   "cell_type": "code",
   "execution_count": null,
   "metadata": {},
   "outputs": [],
   "source": [
    "feet = int(input(\"請輸入幾呎 :\"))\n",
    "inch = int(input(\"請輸入幾吋 :\"))\n",
    "\n",
    "new_inch = inch+(feet*12) # 原本的吋 加上 feet換算成的吋\n",
    "cm = new_inch*2.54\n",
    "\n",
    "print(\"等於\", cm, \"公分\")"
   ]
  },
  {
   "source": [
    "## Q6. 輸入 公分 求呎/吋\n",
    "- 解題流程 :\n",
    "  1. 以 input() 讀入公分<br />\n",
    "  2. 公分/2.54 換成吋<br />\n",
    "  3. 呎 = 吋除以12\n",
    "  4. 剩下的吋 = (吋/12)取餘數"
   ],
   "cell_type": "markdown",
   "metadata": {}
  },
  {
   "cell_type": "code",
   "execution_count": null,
   "metadata": {},
   "outputs": [],
   "source": [
    "cm = int(input(\"請輸入幾公分:\"))\n",
    "\n",
    "cm_to_inch = cm/2.54\n",
    "\n",
    "feet = int(cm_to_inch/12)\n",
    "inch = round(cm_to_inch%12)\n",
    "# round(number) : 回傳最接近number的 整數(int)\n",
    "\n",
    "print(\"feet :\", feet, \"inch :\", inch)"
   ]
  },
  {
   "source": [
    "## Q7. 應用題\n",
    "- 這題有兩種做法\n",
    "  1. 取餘數\n",
    "  2. 找出關係並只用四則運算"
   ],
   "cell_type": "markdown",
   "metadata": {}
  },
  {
   "cell_type": "code",
   "execution_count": null,
   "metadata": {},
   "outputs": [],
   "source": [
    "# 取餘數版本 :\n",
    "amount = int(input(\"請輸入欲購買數量 :\"))\n",
    "\n",
    "bundle_amount = amount//3 # //會向下取整, 在正數的世界等同於無條件捨去\n",
    "single_amount = amount%3 # %取餘數算出剩下的數量\n",
    "\n",
    "price = bundle_amount*1280 + single_amount*500\n",
    "\n",
    "print(\"總金額為\", price, \"元\")"
   ]
  },
  {
   "cell_type": "code",
   "execution_count": null,
   "metadata": {},
   "outputs": [],
   "source": [
    "# 四則運算版本 :\n",
    "amount = int(input(\"請輸入欲購買數量 :\"))\n",
    "\n",
    "original_price = amount*500\n",
    "\n",
    "discount_amount = amount//3\n",
    "discount = discount_amount*220 # 每個一個組合包省了220元\n",
    "\n",
    "price = original_price-discount\n",
    "\n",
    "print(\"總金額為\", price, \"元\")"
   ]
  },
  {
   "source": [
    "## Q8. 應用題\n",
    "- 解題流程 :\n",
    "  1. 以 input() 分別讀入兩人的 分/秒<br />\n",
    "  2. 把成績換成秒數並算出差了幾秒<br />\n",
    "  3. 再把相差的秒數換算回分鐘\n",
    "  \n",
    "- abs()<br />\n",
    "  用法就像int()或round()\n",
    "    - abs(number) : <strong>回傳</strong>number的絕對值"
   ],
   "cell_type": "markdown",
   "metadata": {}
  },
  {
   "cell_type": "code",
   "execution_count": null,
   "metadata": {},
   "outputs": [],
   "source": [
    "minA = int(input(\"請輸入A的分鐘 :\"))\n",
    "secA = int(input(\"請輸入A的秒數 :\"))\n",
    "minB = int(input(\"請輸入B的分鐘 :\"))\n",
    "secB = int(input(\"請輸入B的秒數 :\"))\n",
    "\n",
    "timeA = secA+minA*60\n",
    "timeB = secB+minB*60\n",
    "\n",
    "offset = abs(timeA-timeB)\n",
    "\n",
    "min_offset = offset//60\n",
    "sec_offset = offset%60\n",
    "\n",
    "print(\"差了\", min_offset, \"分\", sec_offset, \"秒\")"
   ]
  },
  {
   "source": [
    "## Q9. 應用題\n",
    "- 這題有兩種做法\n",
    "  1. 運用 if\n",
    "  2. 找出關係並只用四則運算"
   ],
   "cell_type": "markdown",
   "metadata": {}
  },
  {
   "cell_type": "code",
   "execution_count": null,
   "metadata": {},
   "outputs": [],
   "source": [
    "# if解法\r\n",
    "\r\n",
    "#下星期上到再說"
   ]
  },
  {
   "cell_type": "code",
   "execution_count": null,
   "metadata": {},
   "outputs": [],
   "source": [
    "# 四則運算解法\n",
    "# 小提醒 : //會向下取整(因為是正數所以等同無條件捨去)\n",
    "\n",
    "index = int(input(\"請輸入座位編號 :\"))\n",
    "\n",
    "row = (index-1)//8 + 1\n",
    "# 1~8號:第0+1排, 9~16號:第1+1排\n",
    "\n",
    "# (index-1)// 8\n",
    "# (0~7)    // 8 = 0\n",
    "# (8~15)   // 8 = 1\n",
    "\n",
    "col = index - (index-1)//8*8\n",
    "# 0  <= (index-1) < 8  則 (index-1)//8*8 = 0\n",
    "# 8  <= (index-1) < 16 則 (index-1)//8*8 = 8\n",
    "# 16 <= (index-1) < 24 則 (index-1)//8*8 = 16\n",
    "\n",
    "print(\"排:\", row, \" 列:\", col)"
   ]
  }
 ]
}