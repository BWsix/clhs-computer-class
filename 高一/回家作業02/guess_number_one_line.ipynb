{
 "metadata": {
  "language_info": {
   "codemirror_mode": {
    "name": "ipython",
    "version": 3
   },
   "file_extension": ".py",
   "mimetype": "text/x-python",
   "name": "python",
   "nbconvert_exporter": "python",
   "pygments_lexer": "ipython3",
   "version": "3.9.0"
  },
  "orig_nbformat": 2,
  "kernelspec": {
   "name": "python390jvsc74a57bd007882d3a0580dc1e21492d9ec01463d72bf8404db5016082718a24a98015b805",
   "display_name": "Python 3.9.0 64-bit"
  },
  "metadata": {
   "interpreter": {
    "hash": "07882d3a0580dc1e21492d9ec01463d72bf8404db5016082718a24a98015b805"
   }
  }
 },
 "nbformat": 4,
 "nbformat_minor": 2,
 "cells": [
  {
   "cell_type": "code",
   "execution_count": null,
   "metadata": {},
   "outputs": [],
   "source": [
    "from itertools import count\n",
    "from random import randint\n",
    "\n",
    "target = randint(0, 50)\n",
    "\n",
    "# you can choose one of the following snippets and paste it below this line ↓\n"
   ]
  },
  {
   "source": [
    "this is the auto-exit version  \n",
    "(which means it quits when the right number is given)"
   ],
   "cell_type": "markdown",
   "metadata": {}
  },
  {
   "cell_type": "code",
   "execution_count": null,
   "metadata": {},
   "outputs": [],
   "source": [
    "[exec(f\"print('Bingo! 你猜{counter}次囉!')\\nquit()\")if(foo:=int(input()))==target else print(f\"猜錯了! 再小一點。你猜{counter}次囉!\")if foo>target else print(f\"猜錯了! 再大一點。你猜{counter}次囉!\") for counter in count(1)]"
   ]
  },
  {
   "source": [
    "this is the \"exec()-free\" version  \n",
    "(so this one won't kill its infinite-loop when the right number is given)\n"
   ],
   "cell_type": "markdown",
   "metadata": {}
  },
  {
   "cell_type": "code",
   "execution_count": null,
   "metadata": {},
   "outputs": [],
   "source": [
    "[print(f'Bingo! 你猜{counter}次囉!\\n(press ctrl+c to quit)')if(foo:=int(input()))==target else print(f\"猜錯了! 再小一點。你猜{counter}次囉!\")if foo>target else print(f\"猜錯了! 再大一點。你猜{counter}次囉!\") for counter in count(1)]"
   ]
  }
 ]
}