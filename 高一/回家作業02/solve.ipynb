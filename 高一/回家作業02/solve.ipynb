{
 "metadata": {
  "language_info": {
   "codemirror_mode": {
    "name": "ipython",
    "version": 3
   },
   "file_extension": ".py",
   "mimetype": "text/x-python",
   "name": "python",
   "nbconvert_exporter": "python",
   "pygments_lexer": "ipython3",
   "version": "3.9.0"
  },
  "orig_nbformat": 2,
  "kernelspec": {
   "name": "python390jvsc74a57bd063ef6c4c9c7e0c20c52df2d072ac6b0169466491aaff467852b477267fb42e57",
   "display_name": "Python 3.9.0 32-bit"
  }
 },
 "nbformat": 4,
 "nbformat_minor": 2,
 "cells": [
  {
   "source": [
    "在開始之前要補充一點...\n",
    "\n",
    "使用 if elif else while for 等等功能(?)時  \n",
    "都要 \"縮排\"  \n",
    "經縮排的內容表示屬於該區塊的程式碼\n",
    "\n",
    "\"縮排\" 可以是2個空格, 4個空格, 或是\"按TAB\"  \n",
    "只要統一就好  \n",
    "(我個人習慣全部空2格)"
   ],
   "cell_type": "markdown",
   "metadata": {}
  },
  {
   "source": [
    "## Q1. \n",
    "\n",
    "印出題目 由使用者鍵盤輸入答案  \n",
    "答對 => 印出 \"恭禧 答對了!\"  \n",
    "答錯 => 印出 \"喔喔 不對喔！\""
   ],
   "cell_type": "markdown",
   "metadata": {}
  },
  {
   "source": [
    "解這題之前有一些要補充  \n",
    "- else 後面不能接條件\n",
    "\n",
    "- if 不一定要有 else\n",
    "\n",
    "- 如果要接多個條件  \n",
    "可以使用 elif\n",
    "\n",
    "例如  \n",
    "```python  \n",
    "if foo == 1:  \n",
    "  print(\"foo is 1\")  \n",
    "elif foo == 2:  \n",
    "  print(\"foo is 2\")  \n",
    "else:  \n",
    "  print(\"foo is something else\")  \n",
    "```"
   ],
   "cell_type": "markdown",
   "metadata": {}
  },
  {
   "cell_type": "code",
   "execution_count": null,
   "metadata": {},
   "outputs": [],
   "source": [
    "user_input = int(input(\"3+5=?\"))\n",
    "\n",
    "if user_input == 8:\n",
    "  print(\"恭禧 答對了!\")\n",
    "elif user_input == 35:\n",
    "  print(\"好笑嗎?\")\n",
    "else:\n",
    "  print(\"喔喔 不對喔！\")"
   ]
  },
  {
   "source": [
    "## Q2. \n",
    "\n",
    "使用者輸入math及english成績  \n",
    "若兩科皆大於等於80 印出\"吃牛排\"  \n",
    "若只有一科大於等於80 印出\"吃麵\"  \n",
    "若皆小於80 印出\"喝西北風\"  "
   ],
   "cell_type": "markdown",
   "metadata": {}
  },
  {
   "source": [
    "解這題之前有一些要補充\n",
    "\n",
    "- and  \n",
    "if A and B:  \n",
    "A和B都成立才會進入if區塊  \n",
    "\n",
    "- or  \n",
    "if A or B:  \n",
    "A和B其中一個成立就會進入if區塊"
   ],
   "cell_type": "markdown",
   "metadata": {}
  },
  {
   "cell_type": "code",
   "execution_count": null,
   "metadata": {},
   "outputs": [],
   "source": [
    "score_math = int(input(\"請輸入數學成績\"))\n",
    "score_eng = int(input(\"請輸入英文成績\"))\n",
    "\n",
    "if score_math >= 80 and score_eng >= 80:\n",
    "  print(\"吃牛排\")\n",
    "elif score_math >= 80 or score_eng >= 80:\n",
    "  print(\"下麵給你吃\")\n",
    "else:\n",
    "  print(\"喝西北風\")"
   ]
  },
  {
   "source": [
    "## Q3.\n",
    "\n",
    "小明帶 500 元想到超市買可樂、花雕雞泡麵、洗衣粉等數個不等的商品  \n",
    "已知可樂一瓶 38 元  \n",
    "花雕雞泡麵一包 46 元  \n",
    "洗衣粉一袋 105 元  \n",
    "\n",
    "輸入三種物品的購買數量  \n",
    "如果價錢足夠買齊所有的項目  \n",
    "則輸出\"剩下 X 元\"  \n",
    "如果錢不夠  \n",
    "則輸出\"還差 X 元\""
   ],
   "cell_type": "markdown",
   "metadata": {}
  },
  {
   "cell_type": "code",
   "execution_count": null,
   "metadata": {},
   "outputs": [],
   "source": [
    "coke = int(input(\"請輸入可樂數量\")) * 38\n",
    "noodle = int(input(\"請輸入泡麵數量\")) * 46\n",
    "powder = int(input(\"請輸入洗衣粉數量\")) * 105\n",
    "\n",
    "remain = 500-coke-noodle-powder\n",
    "\n",
    "if remain < 0:\n",
    "  print(f\"還差{-remain}元\")\n",
    "else:\n",
    "  print(f\"剩下{remain}元\")"
   ]
  },
  {
   "source": [
    "## Q4.\n",
    " \n",
    "水費計算是以度(立方公尺)為單位  \n",
    "水費收費是採四段式  \n",
    "[附圖](img01.png)為水費收費表  \n",
    "採累進費率  \n",
    "\n",
    "例如:  \n",
    "水費本月使用 80 度  \n",
    "則須繳水費為  \n",
    "12.075 元 (51 度以上每度單價) * 80 度 - 110.25 元 (51 度 以上累進差額)  \n",
    "= 855.75 元\n",
    "\n",
    "請寫一程式計算每月水費\n",
    "\n"
   ],
   "cell_type": "markdown",
   "metadata": {}
  },
  {
   "source": [
    "解這題之前有一些要補充\n",
    "\n",
    "在python的世界  \n",
    "大小於、等於可以\"串連\"\n",
    "\n",
    "像是  \n",
    "```python  \n",
    "if 1 < num <= 10:\n",
    "  print('yes')\n",
    "```\n",
    "\n",
    "也可以這樣  \n",
    "```python  \n",
    "if a < b <= c:\n",
    "  print('yes')\n",
    "```"
   ],
   "cell_type": "markdown",
   "metadata": {}
  },
  {
   "cell_type": "code",
   "execution_count": null,
   "metadata": {},
   "outputs": [],
   "source": [
    "water_m3 = int(input())\n",
    "\n",
    "if 1 <= water_m3 <= 10:\n",
    "  print(7.35*water_m3)\n",
    "\n",
    "elif 11 <= water_m3 <= 30:\n",
    "  print(9.45*water_m3 - 21)\n",
    "\n",
    "elif 31 <= water_m3 <= 50:\n",
    "  print(11.55*water_m3 - 84)\n",
    "\n",
    "else:\n",
    "  print(12.075*water_m3 - 110.25)"
   ]
  },
  {
   "source": [
    "## Q5. \n",
    "\n",
    "利用for (或 while) 迴圈  \n",
    "輸入n  \n",
    "求1+2+3+…+n=?"
   ],
   "cell_type": "markdown",
   "metadata": {}
  },
  {
   "cell_type": "code",
   "execution_count": null,
   "metadata": {},
   "outputs": [],
   "source": [
    "n = int(input())\n",
    "\n",
    "theSum = 0\n",
    "for i in range(1, n+1):\n",
    "  theSum += i\n",
    "\n",
    "print(theSum)"
   ]
  },
  {
   "source": [
    "## Q6. \n",
    "\n",
    "利用for (或 while) 迴圈  \n",
    "輸入n  \n",
    "求1+4+7+…+n=?"
   ],
   "cell_type": "markdown",
   "metadata": {}
  },
  {
   "cell_type": "code",
   "execution_count": null,
   "metadata": {},
   "outputs": [],
   "source": [
    "n = int(input())\n",
    "\n",
    "theSum = 0\n",
    "for i in range(1, n+1, 3):\n",
    "  theSum += i\n",
    "\n",
    "print(theSum)"
   ]
  },
  {
   "source": [
    "## Q7. \n",
    "\n",
    "利用for (或 while) 迴圈  \n",
    "輸入n  \n",
    "求1^2+2^2+3^2+…+n^2=?"
   ],
   "cell_type": "markdown",
   "metadata": {}
  },
  {
   "cell_type": "code",
   "execution_count": null,
   "metadata": {},
   "outputs": [],
   "source": [
    "n = int(input())\n",
    "\n",
    "theSum = 0\n",
    "for i in range(1, n+1):\n",
    "  theSum += i**2 # a**b 為a的b次方\n",
    "\n",
    "print(theSum)"
   ]
  },
  {
   "source": [
    "## Q8.\n",
    "\n",
    "阿婆賣蛋  \n",
    "三個一數餘二、七個一數餘二、十一個一數餘二  \n",
    "\n",
    "印出小於10000個之內的所有可能結果"
   ],
   "cell_type": "markdown",
   "metadata": {}
  },
  {
   "cell_type": "code",
   "execution_count": null,
   "metadata": {},
   "outputs": [],
   "source": [
    "for i in range(11, 10000+1):\n",
    "  if i%3 == i%7 == i%11 == 2: # ==可以串連\n",
    "    print(i)"
   ]
  },
  {
   "source": [
    "## Q9. \n",
    "\n",
    "設定一個1~100的數字  \n",
    "由使用者輸入數字\n",
    "\n",
    "若與設定的數字相同，則印出  \n",
    "\"Bingo! 你猜 X 次囉!\"  \n",
    "若不相同，則印出  \n",
    "\"猜錯了! 再大(或小)一點。你猜 X 次囉!\"\n",
    "\n",
    "X代表所猜的次數"
   ],
   "cell_type": "markdown",
   "metadata": {}
  },
  {
   "source": [
    "解這題之前有一些要補充\n",
    "\n",
    "在while迴圈裡  \n",
    "如果檢查發現條件為True  \n",
    "就會(再)執行一次while迴圈裡的內容\n",
    "\n",
    "也就是說以下的程式碼會無限執行  \n",
    "```python  \n",
    "while True:\n",
    "  print('endless loop..')\n",
    "```\n",
    "\n",
    "如果想要中途跳出迴圈(for / while)  \n",
    "可以用 \"break\" 指令  \n",
    "先看看底下的程式碼  \n",
    "\n",
    "```python  \n",
    "while True:\n",
    "  print(\"will leave while loop when we meet 'break'\")\n",
    "  break\n",
    "```\n",
    "\n",
    "print只執行了一次  \n",
    "因為break會跳出\"離自己最近的迴圈\"  \n",
    "也就是說  \n",
    "以下的程式碼會一直重複印 1, 2, 1, 2...\n",
    "\n",
    "```python  \n",
    "while True:\n",
    "  print(\"1\")\n",
    "  while True:\n",
    "    print(\"2\")\n",
    "    break\n",
    "```\n",
    "\n",
    "對了  \n",
    "跟 \"break\" 有關的還有 \"continue\" 指令喔"
   ],
   "cell_type": "markdown",
   "metadata": {}
  },
  {
   "cell_type": "code",
   "execution_count": null,
   "metadata": {},
   "outputs": [],
   "source": [
    "rand_num = 10 # 要猜的數字\n",
    "\n",
    "counter = 0\n",
    "while True: # 以下會重複執行\n",
    "  counter += 1\n",
    "  \n",
    "  user_input = int(input())\n",
    "  if user_input > rand_num:\n",
    "    print(f\"猜錯了! 再小一點。你猜{counter}次囉!\")\n",
    "  elif user_input < rand_num:\n",
    "    print(f\"猜錯了! 再大一點。你猜{counter}次囉!\")\n",
    "  elif user_input == rand_num:\n",
    "    print(f\"Bingo! 你猜{counter}次囉!\")\n",
    "    break\n"
   ]
  },
  {
   "source": [
    "## Q10.\n",
    "\n",
    "輸入N  \n",
    "印出N的因數\n",
    "\n",
    "例如:  \n",
    "N=7，印出1,7  \n",
    "N=24，印出1,2,3,4,6,8,12,24"
   ],
   "cell_type": "markdown",
   "metadata": {}
  },
  {
   "cell_type": "code",
   "execution_count": null,
   "metadata": {},
   "outputs": [],
   "source": [
    "n = int(input())\n",
    "\n",
    "for i in range(1, n+1):\n",
    "  if n%i == 0: # %是取餘數\n",
    "    print(i)"
   ]
  },
  {
   "source": [
    "## Q11.\n",
    "\n",
    "輸入四個數字  \n",
    "印出最大者  \n",
    "（利用函數方式）"
   ],
   "cell_type": "markdown",
   "metadata": {}
  },
  {
   "cell_type": "code",
   "execution_count": null,
   "metadata": {},
   "outputs": [],
   "source": [
    "a = int(input())\n",
    "b = int(input())\n",
    "c = int(input())\n",
    "d = int(input())\n",
    "\n",
    "print(max(a, b, c, d))"
   ]
  }
 ]
}