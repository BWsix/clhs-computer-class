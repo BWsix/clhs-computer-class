{
 "metadata": {
  "language_info": {
   "codemirror_mode": {
    "name": "ipython",
    "version": 3
   },
   "file_extension": ".py",
   "mimetype": "text/x-python",
   "name": "python",
   "nbconvert_exporter": "python",
   "pygments_lexer": "ipython3",
   "version": "3.9.0"
  },
  "orig_nbformat": 2,
  "kernelspec": {
   "name": "python390jvsc74a57bd063ef6c4c9c7e0c20c52df2d072ac6b0169466491aaff467852b477267fb42e57",
   "display_name": "Python 3.9.0 32-bit"
  }
 },
 "nbformat": 4,
 "nbformat_minor": 2,
 "cells": [
  {
   "source": [
    "## Q1. \n",
    "\n",
    "印出題目 由使用者鍵盤輸入答案  \n",
    "答對 => 印出 \"恭禧 答對了!\"  \n",
    "答錯 => 印出 \"喔喔 不對喔！\""
   ],
   "cell_type": "markdown",
   "metadata": {}
  },
  {
   "source": [
    "## Q2. \n",
    "\n",
    "使用者輸入math及english成績  \n",
    "若兩科皆大於等於80 印出\"吃牛排\"  \n",
    "若只有一科大於等於80 印出\"吃麵\"  \n",
    "若皆小於80 印出\"喝西北風\"  "
   ],
   "cell_type": "markdown",
   "metadata": {}
  },
  {
   "source": [
    "## Q3.\n",
    "\n",
    "小明帶 500 元想到超市買可樂、花雕雞泡麵、洗衣粉等數個不等的商品  \n",
    "已知可樂一瓶 38 元  \n",
    "花雕雞泡麵一包 46 元  \n",
    "洗衣粉一袋 105 元  \n",
    "\n",
    "輸入三種物品的購買數量  \n",
    "如果價錢足夠買齊所有的項目  \n",
    "則輸出\"剩下 X 元\"  \n",
    "如果錢不夠  \n",
    "則輸出\"還差 X 元\""
   ],
   "cell_type": "markdown",
   "metadata": {}
  },
  {
   "source": [
    "## Q4.\n",
    " \n",
    "水費計算是以度(立方公尺)為單位  \n",
    "水費收費是採四段式  \n",
    "[附圖](img01.png)為水費收費表  \n",
    "採累進費率  \n",
    "\n",
    "例如:  \n",
    "水費本月使用 80 度  \n",
    "則須繳水費為  \n",
    "12.075 元 (51 度以上每度單價) * 80 度 - 110.25 元 (51 度 以上累進差額)  \n",
    "= 855.75 元\n",
    "\n",
    "請寫一程式計算每月水費\n",
    "\n"
   ],
   "cell_type": "markdown",
   "metadata": {}
  },
  {
   "source": [
    "## Q5. \n",
    "\n",
    "利用for (或 while) 迴圈  \n",
    "輸入n  \n",
    "求1+2+3+…+n=?"
   ],
   "cell_type": "markdown",
   "metadata": {}
  },
  {
   "source": [
    "## Q6. \n",
    "\n",
    "利用for (或 while) 迴圈  \n",
    "輸入n  \n",
    "求1+4+7+…+n=?"
   ],
   "cell_type": "markdown",
   "metadata": {}
  },
  {
   "source": [
    "## Q7. \n",
    "\n",
    "利用for (或 while) 迴圈  \n",
    "輸入n  \n",
    "求1^2+2^2+3^2+…+n^2=?"
   ],
   "cell_type": "markdown",
   "metadata": {}
  },
  {
   "source": [
    "## Q8.\n",
    "\n",
    "阿婆賣蛋  \n",
    "三個一數餘二、七個一數餘二、十一個一數餘二  \n",
    "\n",
    "印出小於10000個之內的所有可能結果"
   ],
   "cell_type": "markdown",
   "metadata": {}
  },
  {
   "source": [
    "## Q9. \n",
    "\n",
    "設定一個1~100的數字  \n",
    "由使用者輸入數字\n",
    "\n",
    "若與設定的數字相同，則印出  \n",
    "\"Bingo! 你猜 X 次囉!\"  \n",
    "若不相同，則印出  \n",
    "\"猜錯了! 再大(或小)一點。你猜 X 次囉!\"\n",
    "\n",
    "X代表所猜的次數"
   ],
   "cell_type": "markdown",
   "metadata": {}
  },
  {
   "source": [
    "## Q10.\n",
    "\n",
    "輸入N  \n",
    "印出N的因數\n",
    "\n",
    "例如:  \n",
    "N=7，印出1,7  \n",
    "N=24，印出1,2,3,4,6,8,12,24"
   ],
   "cell_type": "markdown",
   "metadata": {}
  },
  {
   "source": [
    "## Q11.\n",
    "\n",
    "輸入四個數字  \n",
    "印出最大者  \n",
    "（利用函數方式）"
   ],
   "cell_type": "markdown",
   "metadata": {}
  }
 ]
}